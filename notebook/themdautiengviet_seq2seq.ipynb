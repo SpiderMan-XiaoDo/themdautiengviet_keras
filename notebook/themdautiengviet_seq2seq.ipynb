{
 "cells": [
  {
   "cell_type": "code",
   "execution_count": 1,
   "id": "6f69bfd9",
   "metadata": {
    "execution": {
     "iopub.execute_input": "2023-12-23T13:08:51.203514Z",
     "iopub.status.busy": "2023-12-23T13:08:51.202729Z",
     "iopub.status.idle": "2023-12-23T13:09:18.215139Z",
     "shell.execute_reply": "2023-12-23T13:09:18.214284Z"
    },
    "id": "KaonCYZL6SZ6",
    "papermill": {
     "duration": 27.034799,
     "end_time": "2023-12-23T13:09:18.217439",
     "exception": false,
     "start_time": "2023-12-23T13:08:51.182640",
     "status": "completed"
    },
    "tags": []
   },
   "outputs": [
    {
     "name": "stdout",
     "output_type": "stream",
     "text": [
      "Collecting underthesea\r\n",
      "  Obtaining dependency information for underthesea from https://files.pythonhosted.org/packages/c0/26/a2615fb23899ec747eaf7d7b3d4ae6b1959b71ae2a8546e121a8ce375d9c/underthesea-6.8.0-py3-none-any.whl.metadata\r\n",
      "  Downloading underthesea-6.8.0-py3-none-any.whl.metadata (14 kB)\r\n",
      "Requirement already satisfied: Click>=6.0 in /opt/conda/lib/python3.10/site-packages (from underthesea) (8.1.7)\r\n",
      "Collecting python-crfsuite>=0.9.6 (from underthesea)\r\n",
      "  Obtaining dependency information for python-crfsuite>=0.9.6 from https://files.pythonhosted.org/packages/38/1d/c475ba7d11e9735f00eb08e2f5315aa2e21c24cc85a0474c3fd425edef58/python_crfsuite-0.9.10-cp310-cp310-manylinux_2_17_x86_64.manylinux2014_x86_64.whl.metadata\r\n",
      "  Downloading python_crfsuite-0.9.10-cp310-cp310-manylinux_2_17_x86_64.manylinux2014_x86_64.whl.metadata (4.2 kB)\r\n",
      "Requirement already satisfied: nltk in /opt/conda/lib/python3.10/site-packages (from underthesea) (3.2.4)\r\n",
      "Requirement already satisfied: tqdm in /opt/conda/lib/python3.10/site-packages (from underthesea) (4.66.1)\r\n",
      "Requirement already satisfied: requests in /opt/conda/lib/python3.10/site-packages (from underthesea) (2.31.0)\r\n",
      "Requirement already satisfied: joblib in /opt/conda/lib/python3.10/site-packages (from underthesea) (1.3.2)\r\n",
      "Requirement already satisfied: scikit-learn in /opt/conda/lib/python3.10/site-packages (from underthesea) (1.2.2)\r\n",
      "Requirement already satisfied: PyYAML in /opt/conda/lib/python3.10/site-packages (from underthesea) (6.0.1)\r\n",
      "Collecting underthesea-core==1.0.4 (from underthesea)\r\n",
      "  Obtaining dependency information for underthesea-core==1.0.4 from https://files.pythonhosted.org/packages/3c/7e/b5af0cc8c567e0fc545a897850d8c216df2c2d02f30a52cbe60da252ce92/underthesea_core-1.0.4-cp310-cp310-manylinux2010_x86_64.whl.metadata\r\n",
      "  Downloading underthesea_core-1.0.4-cp310-cp310-manylinux2010_x86_64.whl.metadata (1.7 kB)\r\n",
      "Requirement already satisfied: six in /opt/conda/lib/python3.10/site-packages (from nltk->underthesea) (1.16.0)\r\n",
      "Requirement already satisfied: charset-normalizer<4,>=2 in /opt/conda/lib/python3.10/site-packages (from requests->underthesea) (3.2.0)\r\n",
      "Requirement already satisfied: idna<4,>=2.5 in /opt/conda/lib/python3.10/site-packages (from requests->underthesea) (3.4)\r\n",
      "Requirement already satisfied: urllib3<3,>=1.21.1 in /opt/conda/lib/python3.10/site-packages (from requests->underthesea) (1.26.15)\r\n",
      "Requirement already satisfied: certifi>=2017.4.17 in /opt/conda/lib/python3.10/site-packages (from requests->underthesea) (2023.11.17)\r\n",
      "Requirement already satisfied: numpy>=1.17.3 in /opt/conda/lib/python3.10/site-packages (from scikit-learn->underthesea) (1.24.3)\r\n",
      "Requirement already satisfied: scipy>=1.3.2 in /opt/conda/lib/python3.10/site-packages (from scikit-learn->underthesea) (1.11.4)\r\n",
      "Requirement already satisfied: threadpoolctl>=2.0.0 in /opt/conda/lib/python3.10/site-packages (from scikit-learn->underthesea) (3.2.0)\r\n",
      "Downloading underthesea-6.8.0-py3-none-any.whl (20.9 MB)\r\n",
      "\u001b[2K   \u001b[90m━━━━━━━━━━━━━━━━━━━━━━━━━━━━━━━━━━━━━━━━\u001b[0m \u001b[32m20.9/20.9 MB\u001b[0m \u001b[31m53.0 MB/s\u001b[0m eta \u001b[36m0:00:00\u001b[0m\r\n",
      "\u001b[?25hDownloading underthesea_core-1.0.4-cp310-cp310-manylinux2010_x86_64.whl (657 kB)\r\n",
      "\u001b[2K   \u001b[90m━━━━━━━━━━━━━━━━━━━━━━━━━━━━━━━━━━━━━━━━\u001b[0m \u001b[32m657.8/657.8 kB\u001b[0m \u001b[31m43.4 MB/s\u001b[0m eta \u001b[36m0:00:00\u001b[0m\r\n",
      "\u001b[?25hDownloading python_crfsuite-0.9.10-cp310-cp310-manylinux_2_17_x86_64.manylinux2014_x86_64.whl (1.1 MB)\r\n",
      "\u001b[2K   \u001b[90m━━━━━━━━━━━━━━━━━━━━━━━━━━━━━━━━━━━━━━━━\u001b[0m \u001b[32m1.1/1.1 MB\u001b[0m \u001b[31m48.8 MB/s\u001b[0m eta \u001b[36m0:00:00\u001b[0m\r\n",
      "\u001b[?25hInstalling collected packages: underthesea-core, python-crfsuite, underthesea\r\n",
      "Successfully installed python-crfsuite-0.9.10 underthesea-6.8.0 underthesea-core-1.0.4\r\n"
     ]
    },
    {
     "name": "stderr",
     "output_type": "stream",
     "text": [
      "/opt/conda/lib/python3.10/site-packages/scipy/__init__.py:146: UserWarning: A NumPy version >=1.16.5 and <1.23.0 is required for this version of SciPy (detected version 1.24.3\n",
      "  warnings.warn(f\"A NumPy version >={np_minversion} and <{np_maxversion}\"\n"
     ]
    }
   ],
   "source": [
    "!pip install underthesea\n",
    "\n",
    "# old code:\n",
    "import string\n",
    "import re\n",
    "from numpy import array, argmax, random, take\n",
    "import pandas as pd\n",
    "from keras.models import Sequential\n",
    "from keras.layers import Dense, LSTM, Embedding, RepeatVector, Softmax, Lambda, TimeDistributed, Layer, MultiHeadAttention, Reshape, Input\n",
    "from keras.preprocessing.text import Tokenizer\n",
    "from keras.callbacks import ModelCheckpoint\n",
    "from keras.preprocessing.sequence import pad_sequences\n",
    "from keras.models import load_model\n",
    "from keras import optimizers\n",
    "import matplotlib.pyplot as plt\n",
    "import numpy as np"
   ]
  },
  {
   "cell_type": "code",
   "execution_count": 2,
   "id": "5d1c07ce",
   "metadata": {
    "execution": {
     "iopub.execute_input": "2023-12-23T13:09:18.258730Z",
     "iopub.status.busy": "2023-12-23T13:09:18.258133Z",
     "iopub.status.idle": "2023-12-23T13:09:34.918492Z",
     "shell.execute_reply": "2023-12-23T13:09:34.917523Z"
    },
    "papermill": {
     "duration": 16.683372,
     "end_time": "2023-12-23T13:09:34.920839",
     "exception": false,
     "start_time": "2023-12-23T13:09:18.237467",
     "status": "completed"
    },
    "tags": []
   },
   "outputs": [],
   "source": [
    "#new code:\n",
    "import tensorflow as tf\n",
    "import pandas as pd\n",
    "import numpy as np\n",
    "import re,string\n",
    "from gensim.models import KeyedVectors\n",
    "from collections import Counter\n",
    "from underthesea import word_tokenize\n",
    "from tensorflow.keras.preprocessing.text import Tokenizer \n",
    "from tensorflow.keras.preprocessing.sequence import pad_sequences\n",
    "from keras.layers import Input, LSTM, Embedding, Dense\n",
    "from keras.models import Model, Sequential\n",
    "from tensorflow.keras.optimizers import RMSprop\n",
    "from keras.losses import categorical_crossentropy\n",
    "from keras import utils\n",
    "from tensorflow.keras import preprocessing, utils, activations\n",
    "from keras.callbacks import ModelCheckpoint\n",
    "import warnings\n",
    "warnings.filterwarnings('ignore')"
   ]
  },
  {
   "cell_type": "code",
   "execution_count": 3,
   "id": "4b635b8c",
   "metadata": {
    "execution": {
     "iopub.execute_input": "2023-12-23T13:09:34.963593Z",
     "iopub.status.busy": "2023-12-23T13:09:34.962975Z",
     "iopub.status.idle": "2023-12-23T13:09:36.708859Z",
     "shell.execute_reply": "2023-12-23T13:09:36.707947Z"
    },
    "id": "hyW5HthT6Xxk",
    "papermill": {
     "duration": 1.769278,
     "end_time": "2023-12-23T13:09:36.711391",
     "exception": false,
     "start_time": "2023-12-23T13:09:34.942113",
     "status": "completed"
    },
    "tags": []
   },
   "outputs": [],
   "source": [
    "import tensorflow_datasets as tfds"
   ]
  },
  {
   "cell_type": "code",
   "execution_count": 4,
   "id": "2b136a67",
   "metadata": {
    "execution": {
     "iopub.execute_input": "2023-12-23T13:09:36.752474Z",
     "iopub.status.busy": "2023-12-23T13:09:36.751917Z",
     "iopub.status.idle": "2023-12-23T13:09:36.755815Z",
     "shell.execute_reply": "2023-12-23T13:09:36.755033Z"
    },
    "id": "cXnd7tw27O64",
    "papermill": {
     "duration": 0.026215,
     "end_time": "2023-12-23T13:09:36.757679",
     "exception": false,
     "start_time": "2023-12-23T13:09:36.731464",
     "status": "completed"
    },
    "tags": []
   },
   "outputs": [],
   "source": [
    "from underthesea import word_tokenize"
   ]
  },
  {
   "cell_type": "code",
   "execution_count": 5,
   "id": "8348d06d",
   "metadata": {
    "execution": {
     "iopub.execute_input": "2023-12-23T13:09:36.798263Z",
     "iopub.status.busy": "2023-12-23T13:09:36.797975Z",
     "iopub.status.idle": "2023-12-23T13:09:37.116484Z",
     "shell.execute_reply": "2023-12-23T13:09:37.115694Z"
    },
    "id": "_OnOHD7L69pw",
    "papermill": {
     "duration": 0.341357,
     "end_time": "2023-12-23T13:09:37.118802",
     "exception": false,
     "start_time": "2023-12-23T13:09:36.777445",
     "status": "completed"
    },
    "tags": []
   },
   "outputs": [],
   "source": [
    "k = word_tokenize('Ngày hôm qua, tôi đã xem phim trinh thám! Tôi rất buồn')"
   ]
  },
  {
   "cell_type": "code",
   "execution_count": 6,
   "id": "3545dec9",
   "metadata": {
    "execution": {
     "iopub.execute_input": "2023-12-23T13:09:37.161269Z",
     "iopub.status.busy": "2023-12-23T13:09:37.160887Z",
     "iopub.status.idle": "2023-12-23T13:09:37.166054Z",
     "shell.execute_reply": "2023-12-23T13:09:37.165142Z"
    },
    "id": "gXU7zWtN8qOR",
    "outputId": "a43c33bf-85f9-40f5-f21b-2d8a8cbc1053",
    "papermill": {
     "duration": 0.02881,
     "end_time": "2023-12-23T13:09:37.168042",
     "exception": false,
     "start_time": "2023-12-23T13:09:37.139232",
     "status": "completed"
    },
    "tags": []
   },
   "outputs": [
    {
     "name": "stdout",
     "output_type": "stream",
     "text": [
      "['Ngày', 'hôm qua', ',', 'tôi', 'đã', 'xem', 'phim', 'trinh thám', '!', 'Tôi', 'rất', 'buồn']\n"
     ]
    }
   ],
   "source": [
    "print(k)"
   ]
  },
  {
   "cell_type": "code",
   "execution_count": 7,
   "id": "e887402b",
   "metadata": {
    "execution": {
     "iopub.execute_input": "2023-12-23T13:09:37.209561Z",
     "iopub.status.busy": "2023-12-23T13:09:37.209210Z",
     "iopub.status.idle": "2023-12-23T13:09:37.215064Z",
     "shell.execute_reply": "2023-12-23T13:09:37.214244Z"
    },
    "id": "WPEumyvR8ri0",
    "papermill": {
     "duration": 0.028589,
     "end_time": "2023-12-23T13:09:37.216874",
     "exception": false,
     "start_time": "2023-12-23T13:09:37.188285",
     "status": "completed"
    },
    "tags": []
   },
   "outputs": [],
   "source": [
    "def check_tieng_viet(seq):\n",
    "    intab_l = 'ạảãàáâậầấẩẫăắằặẳẵóòọõỏôộổỗồốơờớợởỡéèẻẹẽêếềệểễúùụủũưựữửừứíìịỉĩýỳỷỵỹđ'\n",
    "    ascii_lowercase = 'abcdefghijklmnopqrstuvwxyz'\n",
    "    digits = '0123456789'\n",
    "    punctuation = r\"\"\"!\"#$%&'()*+,-./:;<=>?@[\\]^_`{|}~\"\"\"\n",
    "    whitespace = ' '\n",
    "    accept_strings = intab_l + ascii_lowercase + digits + punctuation + whitespace\n",
    "    r = re.compile('^[' + accept_strings + ']+$')\n",
    "\n",
    "    if re.match(r, seq.lower()):\n",
    "        return True\n",
    "    return False"
   ]
  },
  {
   "cell_type": "code",
   "execution_count": 8,
   "id": "0840b004",
   "metadata": {
    "execution": {
     "iopub.execute_input": "2023-12-23T13:09:37.307417Z",
     "iopub.status.busy": "2023-12-23T13:09:37.306764Z",
     "iopub.status.idle": "2023-12-23T13:09:37.313857Z",
     "shell.execute_reply": "2023-12-23T13:09:37.313028Z"
    },
    "id": "Q2stcJW517mE",
    "papermill": {
     "duration": 0.078938,
     "end_time": "2023-12-23T13:09:37.315787",
     "exception": false,
     "start_time": "2023-12-23T13:09:37.236849",
     "status": "completed"
    },
    "tags": []
   },
   "outputs": [],
   "source": [
    "from tqdm import tqdm\n",
    "def remove_tone_line(utf8_str):\n",
    "    intab_l = 'ạảãàáâậầấẩẫăắằặẳẵóòọõỏôộổỗồốơờớợởỡéèẻẹẽêếềệểễúùụủũưựữửừứíìịỉĩýỳỷỵỹđ'\n",
    "    intab_u = 'ẠẢÃÀÁÂẬẦẤẨẪĂẮẰẶẲẴÓÒỌÕỎÔỘỔỖỒỐƠỜỚỢỞỠÉÈẺẸẼÊẾỀỆỂỄÚÙỤỦŨƯỰỮỬỪỨÍÌỊỈĨÝỲỶỴỸĐ'\n",
    "    intab = list(intab_l + intab_u)\n",
    "    outtab_l = \"a\"*17 + \"o\"*17 + \"e\"*11 + \"u\"*11 + \"i\"*5 + \"y\"*5 + \"d\"\n",
    "    outtab_u = \"A\"*17 + \"O\"*17 + \"E\"*11 + \"U\"*11 + \"I\"*5 + \"Y\"*5 + \"D\"\n",
    "    outtab = outtab_l + outtab_u\n",
    "    r = re.compile(\"|\".join(intab))\n",
    "    replaces_dict = dict(zip(intab, outtab))\n",
    "    non_dia_str = r.sub(lambda m: replaces_dict[m.group(0)], utf8_str)\n",
    "    return non_dia_str\n"
   ]
  },
  {
   "cell_type": "code",
   "execution_count": 9,
   "id": "529df1ad",
   "metadata": {
    "execution": {
     "iopub.execute_input": "2023-12-23T13:09:37.358002Z",
     "iopub.status.busy": "2023-12-23T13:09:37.357374Z",
     "iopub.status.idle": "2023-12-23T13:09:37.361922Z",
     "shell.execute_reply": "2023-12-23T13:09:37.361083Z"
    },
    "id": "cqrm_9Ta2Lbi",
    "papermill": {
     "duration": 0.027859,
     "end_time": "2023-12-23T13:09:37.363800",
     "exception": false,
     "start_time": "2023-12-23T13:09:37.335941",
     "status": "completed"
    },
    "tags": []
   },
   "outputs": [],
   "source": [
    "def read_data(file_path):\n",
    "    train_output = None\n",
    "    with open(file_path, 'r', encoding='utf8') as f:\n",
    "        train_output = f.readlines()\n",
    "    return train_output"
   ]
  },
  {
   "cell_type": "code",
   "execution_count": 10,
   "id": "f2f19840",
   "metadata": {
    "execution": {
     "iopub.execute_input": "2023-12-23T13:09:37.405494Z",
     "iopub.status.busy": "2023-12-23T13:09:37.405000Z",
     "iopub.status.idle": "2023-12-23T13:09:37.412524Z",
     "shell.execute_reply": "2023-12-23T13:09:37.411618Z"
    },
    "id": "Xg7RI7vh1_G2",
    "papermill": {
     "duration": 0.030739,
     "end_time": "2023-12-23T13:09:37.414559",
     "exception": false,
     "start_time": "2023-12-23T13:09:37.383820",
     "status": "completed"
    },
    "tags": []
   },
   "outputs": [],
   "source": [
    "# Không chạy:\n",
    "from underthesea import word_tokenize\n",
    "def create_word2index(output_data):\n",
    "    word2index = {}\n",
    "    index2word = {}\n",
    "    index2word[0] = '</pad>'\n",
    "    index2word[1] = '</Start>'\n",
    "    index2word[2] = '</EOS>'\n",
    "    index2word[3] = '</unkn>'\n",
    "    word2index['</pad>'] = 0\n",
    "    word2index['</Start>'] = 1\n",
    "    word2index['</EOS>'] = 2\n",
    "    word2index['</unkn>'] = 3\n",
    "    index = 4\n",
    "    print('index2word tokenizing!!!')\n",
    "    for idx_of_file in tqdm(range(len(output_data))):\n",
    "        # seq = output_data[idx_of_file]\n",
    "        # text = seq.split('\\t')[0]\n",
    "        text = output_data[idx_of_file]\n",
    "        tokenized_word = word_tokenize(text)\n",
    "        for item in tokenized_word:\n",
    "            if(item not in index2word.values()):\n",
    "                index2word[index] = item\n",
    "                word2index[item] = index\n",
    "                index+=1\n",
    "    return (word2index, index2word)\n"
   ]
  },
  {
   "cell_type": "code",
   "execution_count": 11,
   "id": "651503e3",
   "metadata": {
    "execution": {
     "iopub.execute_input": "2023-12-23T13:09:37.456131Z",
     "iopub.status.busy": "2023-12-23T13:09:37.455743Z",
     "iopub.status.idle": "2023-12-23T13:09:38.988414Z",
     "shell.execute_reply": "2023-12-23T13:09:38.987496Z"
    },
    "id": "PnQ_OuNN2VNi",
    "outputId": "5fdaa320-7be3-4ad0-8d68-c9c7c5475ea4",
    "papermill": {
     "duration": 1.556541,
     "end_time": "2023-12-23T13:09:38.991139",
     "exception": false,
     "start_time": "2023-12-23T13:09:37.434598",
     "status": "completed"
    },
    "tags": []
   },
   "outputs": [
    {
     "name": "stdout",
     "output_type": "stream",
     "text": [
      "328034\n",
      "0000000000\tthế vận hội mùa đông 2010\n",
      "\n"
     ]
    }
   ],
   "source": [
    "output_data = read_data(r'/kaggle/input/train-tieng-viet-v2-txt/train_tieng_viet_v2.txt')\n",
    "# read_data(r'/content/drive/MyDrive/WorkSpace/data/train_data/train_tieng_viet.txt')\n",
    "\n",
    "print(len(output_data))\n",
    "print(output_data[0])"
   ]
  },
  {
   "cell_type": "code",
   "execution_count": 12,
   "id": "35f78509",
   "metadata": {
    "execution": {
     "iopub.execute_input": "2023-12-23T13:09:39.041519Z",
     "iopub.status.busy": "2023-12-23T13:09:39.040798Z",
     "iopub.status.idle": "2023-12-23T13:09:39.059510Z",
     "shell.execute_reply": "2023-12-23T13:09:39.058598Z"
    },
    "id": "P1-QTa8d_e5l",
    "papermill": {
     "duration": 0.04205,
     "end_time": "2023-12-23T13:09:39.061444",
     "exception": false,
     "start_time": "2023-12-23T13:09:39.019394",
     "status": "completed"
    },
    "tags": []
   },
   "outputs": [],
   "source": [
    "import glob\n",
    "import json\n",
    "def create_output_data(folder_path):\n",
    "    index = 0\n",
    "    for path in sorted(glob.glob(f'{folder_path}/*')):\n",
    "        for path1 in tqdm(sorted(glob.glob(f'{path}/*'))):\n",
    "            with open(path1, 'r', encoding='utf8') as f:\n",
    "                content = f.readlines()\n",
    "                for row in content:\n",
    "                    art_json = json.loads(row)\n",
    "                    art_cont = art_json['text']\n",
    "                    # print('art bef: ', art_cont)\n",
    "                    # trong định nghĩa json, \\1 là 1 khoảng trắng. Chuẩn hóa nhiều khoảng trắng thành duy nhất 1.\n",
    "                    art_cont = re.sub(\"(\\s)+\", r\"\\1\", art_cont)\n",
    "                    # print('art aft: ', art_cont)\n",
    "                    # input('Tiep tuc?  ')\n",
    "                    art_seqs = art_cont.split(\"\\n\")\n",
    "                    for seq in art_seqs:\n",
    "                        if check_tieng_viet(seq) and seq != '':\n",
    "                            seq = re.sub(r'[^\\w\\s]', '', seq)\n",
    "\n",
    "                            # Chuyển đổi văn bản thành chữ thường\n",
    "                            seq = seq.lower()\n",
    "\n",
    "                            index_str = str(index).zfill(10)\n",
    "                            with open(r'/content/drive/MyDrive/WorkSpace/data/train_data/train_tieng_viet.txt', 'a', encoding= 'utf8') as f1:\n",
    "                                f1.writelines([index_str+'\\t', seq+'\\n'])\n",
    "                            index += 1"
   ]
  },
  {
   "cell_type": "code",
   "execution_count": 13,
   "id": "3615520a",
   "metadata": {
    "execution": {
     "iopub.execute_input": "2023-12-23T13:09:39.103840Z",
     "iopub.status.busy": "2023-12-23T13:09:39.103262Z",
     "iopub.status.idle": "2023-12-23T13:09:39.107277Z",
     "shell.execute_reply": "2023-12-23T13:09:39.106381Z"
    },
    "id": "h-112oDb9fLR",
    "papermill": {
     "duration": 0.02716,
     "end_time": "2023-12-23T13:09:39.109138",
     "exception": false,
     "start_time": "2023-12-23T13:09:39.081978",
     "status": "completed"
    },
    "tags": []
   },
   "outputs": [],
   "source": [
    "# create_output_data(r'/content/drive/MyDrive/WorkSpace/data/raw_data')\n",
    "# Dữ liệu đã được tạo"
   ]
  },
  {
   "cell_type": "code",
   "execution_count": 14,
   "id": "292b6850",
   "metadata": {
    "execution": {
     "iopub.execute_input": "2023-12-23T13:09:39.150858Z",
     "iopub.status.busy": "2023-12-23T13:09:39.150305Z",
     "iopub.status.idle": "2023-12-23T13:09:39.432317Z",
     "shell.execute_reply": "2023-12-23T13:09:39.431453Z"
    },
    "id": "iCO06ebuwFZG",
    "outputId": "c0d43da5-98a0-4c4d-c717-d47ef28c177e",
    "papermill": {
     "duration": 0.30538,
     "end_time": "2023-12-23T13:09:39.434533",
     "exception": false,
     "start_time": "2023-12-23T13:09:39.129153",
     "status": "completed"
    },
    "tags": []
   },
   "outputs": [
    {
     "name": "stdout",
     "output_type": "stream",
     "text": [
      "74363\n"
     ]
    }
   ],
   "source": [
    "data = []\n",
    "maxlength = 30\n",
    "\n",
    "for item in output_data:\n",
    "   _, text = item.split('\\t')\n",
    "   if(len(text) <= maxlength):\n",
    "    data.append(text)\n",
    "print(len(data))\n",
    "# input('hello')"
   ]
  },
  {
   "cell_type": "markdown",
   "id": "e3cf2d83",
   "metadata": {
    "id": "BZu-IEWoAbym",
    "papermill": {
     "duration": 0.023233,
     "end_time": "2023-12-23T13:09:39.478153",
     "exception": false,
     "start_time": "2023-12-23T13:09:39.454920",
     "status": "completed"
    },
    "tags": []
   },
   "source": [
    "Chuẩn hóa dữ liệu:\n"
   ]
  },
  {
   "cell_type": "code",
   "execution_count": 15,
   "id": "901ca46c",
   "metadata": {
    "execution": {
     "iopub.execute_input": "2023-12-23T13:09:39.520032Z",
     "iopub.status.busy": "2023-12-23T13:09:39.519658Z",
     "iopub.status.idle": "2023-12-23T13:09:39.524884Z",
     "shell.execute_reply": "2023-12-23T13:09:39.524058Z"
    },
    "id": "l6roM0A7APXF",
    "outputId": "86d58b88-7ab4-4e2f-e69e-20b3edae2e26",
    "papermill": {
     "duration": 0.028868,
     "end_time": "2023-12-23T13:09:39.527179",
     "exception": false,
     "start_time": "2023-12-23T13:09:39.498311",
     "status": "completed"
    },
    "tags": []
   },
   "outputs": [
    {
     "name": "stdout",
     "output_type": "stream",
     "text": [
      "['thế vận hội mùa đông 2010\\n', 'thế vận hội mùa hè 2008\\n', 'apollo\\n', 'sân bay phù cát\\n', 'apollo định hướng\\n', 'apollo có nhiều nghĩa\\n', 'tên apollo cũng được dùng cho\\n', 'phật giáo hệ phả\\n', 'mười đại đệ tử\\n', 'thiền phái tìniđalưuchi\\n']\n"
     ]
    }
   ],
   "source": [
    "#old:\n",
    "len_data = 5000\n",
    "data_v1 = data[:len_data]\n",
    "\n",
    "print(data_v1[:10])\n",
    "\n",
    "# word2index, index2word = create_word2index(data_v1)"
   ]
  },
  {
   "cell_type": "code",
   "execution_count": 16,
   "id": "c5bba797",
   "metadata": {
    "execution": {
     "iopub.execute_input": "2023-12-23T13:09:39.569923Z",
     "iopub.status.busy": "2023-12-23T13:09:39.569244Z",
     "iopub.status.idle": "2023-12-23T13:09:39.574605Z",
     "shell.execute_reply": "2023-12-23T13:09:39.573772Z"
    },
    "papermill": {
     "duration": 0.028998,
     "end_time": "2023-12-23T13:09:39.576733",
     "exception": false,
     "start_time": "2023-12-23T13:09:39.547735",
     "status": "completed"
    },
    "tags": []
   },
   "outputs": [
    {
     "name": "stdout",
     "output_type": "stream",
     "text": [
      "['thế vận hội mùa đông 2010\\n', 'thế vận hội mùa hè 2008\\n', 'apollo\\n', 'sân bay phù cát\\n', 'apollo định hướng\\n', 'apollo có nhiều nghĩa\\n', 'tên apollo cũng được dùng cho\\n', 'phật giáo hệ phả\\n', 'mười đại đệ tử\\n', 'thiền phái tìniđalưuchi\\n']\n"
     ]
    }
   ],
   "source": [
    "#New:\n",
    "len_data = 5000\n",
    "data_v1 = data[:len_data]\n",
    "\n",
    "print(data_v1[:10])\n"
   ]
  },
  {
   "cell_type": "code",
   "execution_count": 1,
   "id": "04566f34",
   "metadata": {
    "execution": {
     "iopub.execute_input": "2023-12-23T13:09:39.619785Z",
     "iopub.status.busy": "2023-12-23T13:09:39.619453Z",
     "iopub.status.idle": "2023-12-23T13:09:40.061240Z",
     "shell.execute_reply": "2023-12-23T13:09:40.060081Z"
    },
    "id": "eTI7yfMwqjtX",
    "outputId": "891c9825-be81-4106-fda3-eb084f3f66ce",
    "papermill": {
     "duration": 0.464977,
     "end_time": "2023-12-23T13:09:40.062601",
     "exception": true,
     "start_time": "2023-12-23T13:09:39.597624",
     "status": "failed"
    },
    "tags": []
   },
   "outputs": [],
   "source": [
    "#old:\n",
    "# print(len(word2index))"
   ]
  },
  {
   "cell_type": "code",
   "execution_count": null,
   "id": "7c55fde6",
   "metadata": {
    "execution": {
     "iopub.execute_input": "2023-12-23T13:00:01.008814Z",
     "iopub.status.busy": "2023-12-23T13:00:01.008449Z",
     "iopub.status.idle": "2023-12-23T13:00:02.247816Z",
     "shell.execute_reply": "2023-12-23T13:00:02.246628Z",
     "shell.execute_reply.started": "2023-12-23T13:00:01.008784Z"
    },
    "papermill": {
     "duration": null,
     "end_time": null,
     "exception": null,
     "start_time": null,
     "status": "pending"
    },
    "tags": []
   },
   "outputs": [],
   "source": [
    "#new:\n",
    "outputs = [['</start>'] + word_tokenize(output) + ['</end>'] for output in data_v1]\n",
    "outputs.append(['</start>','</unknown>', '</end>'])\n",
    "print(len(outputs))\n",
    "print(outputs[-2:])"
   ]
  },
  {
   "cell_type": "code",
   "execution_count": null,
   "id": "01bdba84",
   "metadata": {
    "execution": {
     "iopub.execute_input": "2023-12-23T13:00:06.878647Z",
     "iopub.status.busy": "2023-12-23T13:00:06.878249Z",
     "iopub.status.idle": "2023-12-23T13:00:08.098212Z",
     "shell.execute_reply": "2023-12-23T13:00:08.097220Z",
     "shell.execute_reply.started": "2023-12-23T13:00:06.878615Z"
    },
    "papermill": {
     "duration": null,
     "end_time": null,
     "exception": null,
     "start_time": null,
     "status": "pending"
    },
    "tags": []
   },
   "outputs": [],
   "source": [
    "# inputs = []\n",
    "\n",
    "# for item in outputs:\n",
    "#     input_item = []\n",
    "#     for word in item:\n",
    "#         input_item.append(remove_tone_line(word))\n",
    "# #     input_item.append('</end>')\n",
    "#     inputs.append(input_item)\n",
    "# print(len(inputs))\n",
    "# print(inputs[:10])\n",
    "# # input('hello')\n",
    "\n",
    "inputs = [['</start>'] + word_tokenize(remove_tone_line(output)) + ['</end>'] for output in data_v1]\n",
    "inputs.append(['</start>','</unknown>', '</end>'])\n",
    "print(len(inputs))\n",
    "print(inputs[:10])\n"
   ]
  },
  {
   "cell_type": "code",
   "execution_count": null,
   "id": "8851232c",
   "metadata": {
    "execution": {
     "iopub.execute_input": "2023-12-23T13:00:14.978758Z",
     "iopub.status.busy": "2023-12-23T13:00:14.978374Z",
     "iopub.status.idle": "2023-12-23T13:00:15.045989Z",
     "shell.execute_reply": "2023-12-23T13:00:15.045134Z",
     "shell.execute_reply.started": "2023-12-23T13:00:14.978729Z"
    },
    "papermill": {
     "duration": null,
     "end_time": null,
     "exception": null,
     "start_time": null,
     "status": "pending"
    },
    "tags": []
   },
   "outputs": [],
   "source": [
    "#New:\n",
    "tokenizer = Tokenizer()\n",
    "tokenizer.fit_on_texts(inputs + outputs)\n",
    "VOCAB_SIZE = len(tokenizer.word_index) + 1\n",
    "print( 'VOCAB SIZE : {}'.format( VOCAB_SIZE ))"
   ]
  },
  {
   "cell_type": "code",
   "execution_count": null,
   "id": "84f8d995",
   "metadata": {
    "execution": {
     "iopub.execute_input": "2023-12-23T13:00:20.425701Z",
     "iopub.status.busy": "2023-12-23T13:00:20.425315Z",
     "iopub.status.idle": "2023-12-23T13:00:20.429896Z",
     "shell.execute_reply": "2023-12-23T13:00:20.428886Z",
     "shell.execute_reply.started": "2023-12-23T13:00:20.425671Z"
    },
    "id": "3gBPADDx3fZN",
    "outputId": "b9076373-8e1c-4b62-ab87-b3aef0ea243d",
    "papermill": {
     "duration": null,
     "end_time": null,
     "exception": null,
     "start_time": null,
     "status": "pending"
    },
    "tags": []
   },
   "outputs": [],
   "source": [
    "#new\n",
    "word2idx = tokenizer.word_index\n",
    "# print(word2idx)"
   ]
  },
  {
   "cell_type": "code",
   "execution_count": null,
   "id": "6293f729",
   "metadata": {
    "execution": {
     "iopub.execute_input": "2023-12-23T13:00:24.244137Z",
     "iopub.status.busy": "2023-12-23T13:00:24.243213Z",
     "iopub.status.idle": "2023-12-23T13:00:24.297717Z",
     "shell.execute_reply": "2023-12-23T13:00:24.296847Z",
     "shell.execute_reply.started": "2023-12-23T13:00:24.244097Z"
    },
    "papermill": {
     "duration": null,
     "end_time": null,
     "exception": null,
     "start_time": null,
     "status": "pending"
    },
    "tags": []
   },
   "outputs": [],
   "source": [
    "#encoder_input_data\n",
    "tokenized_inputs = tokenizer.texts_to_sequences(inputs)\n",
    "maxlen_inputs = max([len(x) for x in tokenized_inputs])\n",
    "padded_inputs = pad_sequences(tokenized_inputs, maxlen = maxlen_inputs, padding = 'post')\n",
    "encoder_input_data = np.array(padded_inputs)\n",
    "print(\"Max length input:\", maxlen_inputs)\n",
    "print(encoder_input_data.shape)"
   ]
  },
  {
   "cell_type": "code",
   "execution_count": null,
   "id": "eea33905",
   "metadata": {
    "execution": {
     "iopub.execute_input": "2023-12-23T13:01:02.915759Z",
     "iopub.status.busy": "2023-12-23T13:01:02.915387Z",
     "iopub.status.idle": "2023-12-23T13:01:02.964796Z",
     "shell.execute_reply": "2023-12-23T13:01:02.963951Z",
     "shell.execute_reply.started": "2023-12-23T13:01:02.915729Z"
    },
    "papermill": {
     "duration": null,
     "end_time": null,
     "exception": null,
     "start_time": null,
     "status": "pending"
    },
    "tags": []
   },
   "outputs": [],
   "source": [
    "# new\n",
    "# decoder_input_data\n",
    "tokenized_outputs = tokenizer.texts_to_sequences(outputs)\n",
    "maxlen_outputs = max([len(x) for x in tokenized_outputs])\n",
    "padded_outputs = pad_sequences(tokenized_outputs, maxlen = maxlen_outputs, padding='post')\n",
    "decoder_input_data = np.array(padded_outputs)\n",
    "print(\"Max length outputs:\", maxlen_outputs)\n",
    "print(decoder_input_data.shape)"
   ]
  },
  {
   "cell_type": "code",
   "execution_count": null,
   "id": "c09ec6ca",
   "metadata": {
    "execution": {
     "iopub.execute_input": "2023-12-23T13:01:07.779246Z",
     "iopub.status.busy": "2023-12-23T13:01:07.778502Z",
     "iopub.status.idle": "2023-12-23T13:01:08.759285Z",
     "shell.execute_reply": "2023-12-23T13:01:08.758275Z",
     "shell.execute_reply.started": "2023-12-23T13:01:07.779213Z"
    },
    "papermill": {
     "duration": null,
     "end_time": null,
     "exception": null,
     "start_time": null,
     "status": "pending"
    },
    "tags": []
   },
   "outputs": [],
   "source": [
    "# new:\n",
    "# decoder_output_data\n",
    "tokenized_outputs = tokenizer.texts_to_sequences(outputs)\n",
    "# Remove Start added before\n",
    "for i in range(len(tokenized_outputs)):\n",
    "    tokenized_outputs[i] = tokenized_outputs[i][1:]\n",
    "padded_outputs = pad_sequences(tokenized_outputs, maxlen = maxlen_outputs, padding='post')\n",
    "onehot_outputs = utils.to_categorical(padded_outputs, VOCAB_SIZE)\n",
    "decoder_output_data = np.array(onehot_outputs)\n",
    "print(decoder_output_data.shape)"
   ]
  },
  {
   "cell_type": "code",
   "execution_count": null,
   "id": "633445b8",
   "metadata": {
    "execution": {
     "iopub.execute_input": "2023-12-23T13:01:14.544595Z",
     "iopub.status.busy": "2023-12-23T13:01:14.544229Z",
     "iopub.status.idle": "2023-12-23T13:02:37.960951Z",
     "shell.execute_reply": "2023-12-23T13:02:37.959657Z",
     "shell.execute_reply.started": "2023-12-23T13:01:14.544567Z"
    },
    "papermill": {
     "duration": null,
     "end_time": null,
     "exception": null,
     "start_time": null,
     "status": "pending"
    },
    "tags": []
   },
   "outputs": [],
   "source": [
    "fastText_model = KeyedVectors.load_word2vec_format(r'/kaggle/input/fastext-vector/wiki.vi.vec')\n",
    "print(\"FastText Loaded!\")"
   ]
  },
  {
   "cell_type": "code",
   "execution_count": null,
   "id": "66f5d69c",
   "metadata": {
    "execution": {
     "iopub.execute_input": "2023-12-23T13:02:38.171695Z",
     "iopub.status.busy": "2023-12-23T13:02:38.170940Z",
     "iopub.status.idle": "2023-12-23T13:02:38.205770Z",
     "shell.execute_reply": "2023-12-23T13:02:38.204923Z",
     "shell.execute_reply.started": "2023-12-23T13:02:38.171658Z"
    },
    "papermill": {
     "duration": null,
     "end_time": null,
     "exception": null,
     "start_time": null,
     "status": "pending"
    },
    "tags": []
   },
   "outputs": [],
   "source": [
    "embeddings_dim = 300\n",
    "\n",
    "embedding_matrix = np.zeros((VOCAB_SIZE, embeddings_dim))\n",
    "\n",
    "for word, index in word2idx.items():\n",
    "    try:\n",
    "        embedding_matrix[index,:] = fastText_model[word]\n",
    "    except:\n",
    "        continue\n",
    "        \n",
    "print(embedding_matrix.shape)"
   ]
  },
  {
   "cell_type": "code",
   "execution_count": null,
   "id": "ba213816",
   "metadata": {
    "execution": {
     "iopub.execute_input": "2023-12-19T15:58:42.734557Z",
     "iopub.status.busy": "2023-12-19T15:58:42.734189Z",
     "iopub.status.idle": "2023-12-19T15:58:42.740983Z",
     "shell.execute_reply": "2023-12-19T15:58:42.740145Z",
     "shell.execute_reply.started": "2023-12-19T15:58:42.734528Z"
    },
    "papermill": {
     "duration": null,
     "end_time": null,
     "exception": null,
     "start_time": null,
     "status": "pending"
    },
    "tags": []
   },
   "outputs": [],
   "source": [
    "# print(maxlenght)"
   ]
  },
  {
   "cell_type": "code",
   "execution_count": null,
   "id": "f291effa",
   "metadata": {
    "execution": {
     "iopub.execute_input": "2023-12-23T13:02:38.207054Z",
     "iopub.status.busy": "2023-12-23T13:02:38.206786Z",
     "iopub.status.idle": "2023-12-23T13:02:38.239394Z",
     "shell.execute_reply": "2023-12-23T13:02:38.238465Z",
     "shell.execute_reply.started": "2023-12-23T13:02:38.207031Z"
    },
    "papermill": {
     "duration": null,
     "end_time": null,
     "exception": null,
     "start_time": null,
     "status": "pending"
    },
    "tags": []
   },
   "outputs": [],
   "source": [
    "# Define Embedding Layer\n",
    "embedding_layer_inputs = Embedding(VOCAB_SIZE,embeddings_dim\n",
    "                                     ,input_length=maxlen_inputs\n",
    "                                     ,weights = [embedding_matrix]\n",
    "                                     ,trainable=False)\n",
    "\n",
    "embedding_layer_outputs = Embedding(VOCAB_SIZE,embeddings_dim\n",
    "                                     ,input_length=maxlen_outputs\n",
    "                                     ,weights = [embedding_matrix]\n",
    "                                     ,trainable=False)"
   ]
  },
  {
   "cell_type": "code",
   "execution_count": null,
   "id": "01174423",
   "metadata": {
    "execution": {
     "iopub.execute_input": "2023-12-22T02:16:47.456139Z",
     "iopub.status.busy": "2023-12-22T02:16:47.455751Z",
     "iopub.status.idle": "2023-12-22T02:16:48.101296Z",
     "shell.execute_reply": "2023-12-22T02:16:48.100416Z",
     "shell.execute_reply.started": "2023-12-22T02:16:47.456113Z"
    },
    "papermill": {
     "duration": null,
     "end_time": null,
     "exception": null,
     "start_time": null,
     "status": "pending"
    },
    "tags": []
   },
   "outputs": [],
   "source": [
    "# Define the model\n",
    "encoder_inputs = Input(shape = (maxlen_inputs, ))\n",
    "encoder_embedding = embedding_layer_inputs(encoder_inputs)\n",
    "encoder_outputs, state_h, state_c = LSTM(300,dropout=0.05,return_state=True)(encoder_embedding)\n",
    "encoder_states = [state_h, state_c]\n",
    "\n",
    "\n",
    "decoder_inputs = Input(shape=(maxlen_inputs, ))\n",
    "decoder_embedding = embedding_layer_outputs(decoder_inputs)\n",
    "decoder_lstm = LSTM(300, return_state=True, return_sequences=True,dropout=0.05)\n",
    "\n",
    "\n",
    "decoder_outputs , _ , _ = decoder_lstm(decoder_embedding, initial_state=encoder_states)\n",
    "\n",
    "\n",
    "\n",
    "decoder_dense = Dense(VOCAB_SIZE, activation='softmax') \n",
    "output = decoder_dense(decoder_outputs)\n",
    "\n",
    "model = Model([encoder_inputs, decoder_inputs], output)\n",
    "model.compile(optimizer = 'adam', loss = 'categorical_crossentropy', metrics=['acc'])\n",
    "\n",
    "model.summary()"
   ]
  },
  {
   "cell_type": "code",
   "execution_count": null,
   "id": "ff020cd3",
   "metadata": {
    "execution": {
     "iopub.execute_input": "2023-12-22T02:16:52.093252Z",
     "iopub.status.busy": "2023-12-22T02:16:52.092497Z",
     "iopub.status.idle": "2023-12-22T02:21:02.877296Z",
     "shell.execute_reply": "2023-12-22T02:21:02.876347Z",
     "shell.execute_reply.started": "2023-12-22T02:16:52.093219Z"
    },
    "papermill": {
     "duration": null,
     "end_time": null,
     "exception": null,
     "start_time": null,
     "status": "pending"
    },
    "tags": []
   },
   "outputs": [],
   "source": [
    "checkpoint = ModelCheckpoint('model.h5', monitor='loss', verbose=1, save_best_only=True)\n",
    "\n",
    "# train model\n",
    "history = model.fit([encoder_input_data , decoder_input_data], decoder_output_data, batch_size=64, epochs=100) "
   ]
  },
  {
   "cell_type": "code",
   "execution_count": null,
   "id": "97a5f9c0",
   "metadata": {
    "execution": {
     "iopub.execute_input": "2023-12-22T02:23:19.718194Z",
     "iopub.status.busy": "2023-12-22T02:23:19.717303Z",
     "iopub.status.idle": "2023-12-22T02:23:19.723410Z",
     "shell.execute_reply": "2023-12-22T02:23:19.722466Z",
     "shell.execute_reply.started": "2023-12-22T02:23:19.718161Z"
    },
    "papermill": {
     "duration": null,
     "end_time": null,
     "exception": null,
     "start_time": null,
     "status": "pending"
    },
    "tags": []
   },
   "outputs": [],
   "source": [
    "import joblib\n",
    "\n",
    "def save_features(data, filepath):\n",
    "    print('saving feature!!!')  \n",
    "    joblib.dump(data, filepath)\n",
    "    print('saved')\n",
    "\n",
    "def load_features(file_path):\n",
    "    print('loading file')\n",
    "    print('loaded')\n",
    "    return joblib.load(file_path)"
   ]
  },
  {
   "cell_type": "code",
   "execution_count": null,
   "id": "16556b29",
   "metadata": {
    "execution": {
     "iopub.execute_input": "2023-12-22T02:23:23.362411Z",
     "iopub.status.busy": "2023-12-22T02:23:23.361565Z",
     "iopub.status.idle": "2023-12-22T02:23:23.659258Z",
     "shell.execute_reply": "2023-12-22T02:23:23.658302Z",
     "shell.execute_reply.started": "2023-12-22T02:23:23.362380Z"
    },
    "papermill": {
     "duration": null,
     "end_time": null,
     "exception": null,
     "start_time": null,
     "status": "pending"
    },
    "tags": []
   },
   "outputs": [],
   "source": [
    "%matplotlib inline\n",
    "import matplotlib.pyplot as plt\n",
    "plt.rcParams['figure.figsize'] = (10, 5)\n",
    "# Plot training accuracy & loss values\n",
    "plt.plot(history.history['acc'])\n",
    "plt.plot(history.history['loss'])\n",
    "plt.title('Model accuracy')\n",
    "plt.ylabel('Value')\n",
    "plt.xlabel('Epoch')\n",
    "plt.legend(['Accuracy','Loss'], loc='upper left')\n",
    "plt.show()"
   ]
  },
  {
   "cell_type": "code",
   "execution_count": null,
   "id": "94e8a4d6",
   "metadata": {
    "execution": {
     "iopub.execute_input": "2023-12-22T02:23:26.781244Z",
     "iopub.status.busy": "2023-12-22T02:23:26.780873Z",
     "iopub.status.idle": "2023-12-22T02:23:26.864348Z",
     "shell.execute_reply": "2023-12-22T02:23:26.863363Z",
     "shell.execute_reply.started": "2023-12-22T02:23:26.781215Z"
    },
    "papermill": {
     "duration": null,
     "end_time": null,
     "exception": null,
     "start_time": null,
     "status": "pending"
    },
    "tags": []
   },
   "outputs": [],
   "source": [
    "model.save_weights('chatbot_weights.h5')"
   ]
  },
  {
   "cell_type": "code",
   "execution_count": null,
   "id": "effc6d2d",
   "metadata": {
    "execution": {
     "iopub.execute_input": "2023-12-22T02:23:28.456925Z",
     "iopub.status.busy": "2023-12-22T02:23:28.456535Z",
     "iopub.status.idle": "2023-12-22T02:23:28.463266Z",
     "shell.execute_reply": "2023-12-22T02:23:28.462238Z",
     "shell.execute_reply.started": "2023-12-22T02:23:28.456887Z"
    },
    "papermill": {
     "duration": null,
     "end_time": null,
     "exception": null,
     "start_time": null,
     "status": "pending"
    },
    "tags": []
   },
   "outputs": [],
   "source": [
    "def make_inference_models():\n",
    "    \n",
    "    encoder_model = Model(encoder_inputs, encoder_states)\n",
    "    \n",
    "    decoder_state_input_h = Input(shape=(300,))\n",
    "    decoder_state_input_c = Input(shape=(300,))\n",
    "    \n",
    "    decoder_states_inputs = [decoder_state_input_h, decoder_state_input_c]\n",
    "    \n",
    "    decoder_outputs, state_h, state_c = decoder_lstm(\n",
    "        decoder_embedding , initial_state=decoder_states_inputs)\n",
    "    \n",
    "    decoder_states = [state_h, state_c]\n",
    "\n",
    "    decoder_outputs = decoder_dense(decoder_outputs)\n",
    "    \n",
    "    decoder_model = Model(\n",
    "        [decoder_inputs] + decoder_states_inputs,\n",
    "        [decoder_outputs] + decoder_states)\n",
    "    \n",
    "    return encoder_model, decoder_model"
   ]
  },
  {
   "cell_type": "code",
   "execution_count": null,
   "id": "431fb4d1",
   "metadata": {
    "execution": {
     "iopub.execute_input": "2023-12-22T02:24:53.151662Z",
     "iopub.status.busy": "2023-12-22T02:24:53.150929Z",
     "iopub.status.idle": "2023-12-22T02:24:53.157216Z",
     "shell.execute_reply": "2023-12-22T02:24:53.156269Z",
     "shell.execute_reply.started": "2023-12-22T02:24:53.151630Z"
    },
    "papermill": {
     "duration": null,
     "end_time": null,
     "exception": null,
     "start_time": null,
     "status": "pending"
    },
    "tags": []
   },
   "outputs": [],
   "source": [
    "def str_to_tokens(sentence):\n",
    "    words = word_tokenize(sentence.lower())\n",
    "    tokens_list = []\n",
    "    \n",
    "    for word in words:\n",
    "        try: \n",
    "            tokens_list.append(tokenizer.word_index[word])\n",
    "        except Exception as e:\n",
    "            tokens_list.append(tokenizer.word_index['</unknown>'])\n",
    "    return pad_sequences([tokens_list],maxlen = maxlen_inputs , padding='post')"
   ]
  },
  {
   "cell_type": "code",
   "execution_count": null,
   "id": "d042dcd1",
   "metadata": {
    "execution": {
     "iopub.execute_input": "2023-12-22T02:24:59.514220Z",
     "iopub.status.busy": "2023-12-22T02:24:59.513077Z",
     "iopub.status.idle": "2023-12-22T02:24:59.791629Z",
     "shell.execute_reply": "2023-12-22T02:24:59.790560Z",
     "shell.execute_reply.started": "2023-12-22T02:24:59.514182Z"
    },
    "papermill": {
     "duration": null,
     "end_time": null,
     "exception": null,
     "start_time": null,
     "status": "pending"
    },
    "tags": []
   },
   "outputs": [],
   "source": [
    "enc_model ,dec_model = make_inference_models()"
   ]
  },
  {
   "cell_type": "code",
   "execution_count": null,
   "id": "2342588e",
   "metadata": {
    "execution": {
     "iopub.execute_input": "2023-12-22T02:25:02.255566Z",
     "iopub.status.busy": "2023-12-22T02:25:02.255197Z",
     "iopub.status.idle": "2023-12-22T02:25:02.446564Z",
     "shell.execute_reply": "2023-12-22T02:25:02.445584Z",
     "shell.execute_reply.started": "2023-12-22T02:25:02.255537Z"
    },
    "papermill": {
     "duration": null,
     "end_time": null,
     "exception": null,
     "start_time": null,
     "status": "pending"
    },
    "tags": []
   },
   "outputs": [],
   "source": [
    "save_features(enc_model, 'encoder_model.joblib')\n",
    "\n",
    "save_features(dec_model, 'decoder_model.joblib')"
   ]
  },
  {
   "cell_type": "code",
   "execution_count": null,
   "id": "a99cfcd6",
   "metadata": {
    "execution": {
     "iopub.execute_input": "2023-12-22T02:25:05.103348Z",
     "iopub.status.busy": "2023-12-22T02:25:05.102978Z",
     "iopub.status.idle": "2023-12-22T02:28:00.082590Z",
     "shell.execute_reply": "2023-12-22T02:28:00.081377Z",
     "shell.execute_reply.started": "2023-12-22T02:25:05.103319Z"
    },
    "papermill": {
     "duration": null,
     "end_time": null,
     "exception": null,
     "start_time": null,
     "status": "pending"
    },
    "tags": []
   },
   "outputs": [],
   "source": [
    "enc_model ,dec_model = make_inference_models()\n",
    "\n",
    "flag=True\n",
    "\n",
    "while(flag==True):\n",
    "    human_response = input('Nhập câu không có dấu : ')\n",
    "    if human_response != '':\n",
    "#         print(human_response)\n",
    "#         try:\n",
    "        states_values = enc_model.predict(str_to_tokens(human_response))\n",
    "        empty_target_seq = np.zeros((1, 1))\n",
    "        empty_target_seq[0, 0] = word2idx['</start>']\n",
    "        stop_condition = False\n",
    "        decoded_translation = ''\n",
    "        while not stop_condition:\n",
    "            dec_outputs, h, c = dec_model.predict([empty_target_seq] + states_values)\n",
    "\n",
    "            sampled_word_index = np.argmax(dec_outputs[0, -1, :])\n",
    "            sampled_word = None\n",
    "            for word, index in word2idx.items() :\n",
    "                if sampled_word_index == index:\n",
    "                    decoded_translation += ' {}'.format(word)\n",
    "                    sampled_word = word\n",
    "\n",
    "            if sampled_word == '</end>' or len(decoded_translation.split()) > maxlen_outputs:\n",
    "                stop_condition = True\n",
    "\n",
    "            empty_target_seq = np.zeros((1, 1))  \n",
    "            empty_target_seq[0 , 0] = sampled_word_index\n",
    "            states_values = [h, c] \n",
    "\n",
    "        print('Res : ' + decoded_translation.replace(\"</end>\",\"\"))\n",
    "    \n",
    "    "
   ]
  },
  {
   "cell_type": "code",
   "execution_count": null,
   "id": "ee89a7eb",
   "metadata": {
    "execution": {
     "iopub.status.busy": "2023-12-19T15:42:30.407092Z",
     "iopub.status.idle": "2023-12-19T15:42:30.407427Z",
     "shell.execute_reply": "2023-12-19T15:42:30.407281Z",
     "shell.execute_reply.started": "2023-12-19T15:42:30.407265Z"
    },
    "id": "eCC2nTZnqpXY",
    "outputId": "c29ed368-b3b4-46b4-bc4d-ae9fc80c6675",
    "papermill": {
     "duration": null,
     "end_time": null,
     "exception": null,
     "start_time": null,
     "status": "pending"
    },
    "tags": []
   },
   "outputs": [],
   "source": [
    "# old\n",
    "print(data_v1[:10])\n"
   ]
  },
  {
   "cell_type": "code",
   "execution_count": null,
   "id": "e55741bd",
   "metadata": {
    "execution": {
     "iopub.execute_input": "2023-12-19T13:52:13.800657Z",
     "iopub.status.busy": "2023-12-19T13:52:13.799647Z",
     "iopub.status.idle": "2023-12-19T13:52:13.805424Z",
     "shell.execute_reply": "2023-12-19T13:52:13.804366Z",
     "shell.execute_reply.started": "2023-12-19T13:52:13.800621Z"
    },
    "papermill": {
     "duration": null,
     "end_time": null,
     "exception": null,
     "start_time": null,
     "status": "pending"
    },
    "tags": []
   },
   "outputs": [],
   "source": [
    "# new:\n",
    "print(tokenized_inputs[:10])"
   ]
  },
  {
   "cell_type": "code",
   "execution_count": null,
   "id": "b1dcd75d",
   "metadata": {
    "execution": {
     "iopub.execute_input": "2023-12-19T12:15:42.437120Z",
     "iopub.status.busy": "2023-12-19T12:15:42.436259Z",
     "iopub.status.idle": "2023-12-19T12:15:43.527547Z",
     "shell.execute_reply": "2023-12-19T12:15:43.526590Z",
     "shell.execute_reply.started": "2023-12-19T12:15:42.437079Z"
    },
    "id": "xKtuVA8osFzR",
    "outputId": "3eb3189c-f49c-44c8-ac42-d85ae5500990",
    "papermill": {
     "duration": null,
     "end_time": null,
     "exception": null,
     "start_time": null,
     "status": "pending"
    },
    "tags": []
   },
   "outputs": [],
   "source": [
    "target_data = []\n",
    "for item in tqdm(data_v1):\n",
    "  words = item.split('\\n')[0]\n",
    "  words = word_tokenize(words)\n",
    "  vector =[]\n",
    "  for word in words:\n",
    "    if(word in word2index.keys()):\n",
    "      vector.append(word2index[word])\n",
    "    else:\n",
    "      vector.append(word2index['</unkn>'])\n",
    "  padding = maxlength - len(words)\n",
    "  vector = vector + [0] * padding\n",
    "  target_data.append(vector)"
   ]
  },
  {
   "cell_type": "code",
   "execution_count": null,
   "id": "f3401188",
   "metadata": {
    "execution": {
     "iopub.execute_input": "2023-12-19T12:15:43.529647Z",
     "iopub.status.busy": "2023-12-19T12:15:43.529327Z",
     "iopub.status.idle": "2023-12-19T12:15:43.535198Z",
     "shell.execute_reply": "2023-12-19T12:15:43.534063Z",
     "shell.execute_reply.started": "2023-12-19T12:15:43.529618Z"
    },
    "id": "fKQ5CB7fvGVd",
    "outputId": "6db78db1-6bc6-4fbb-f3f2-1764012f12ff",
    "papermill": {
     "duration": null,
     "end_time": null,
     "exception": null,
     "start_time": null,
     "status": "pending"
    },
    "tags": []
   },
   "outputs": [],
   "source": [
    "sentences =[]\n",
    "for item in target_data[:10]:\n",
    "  words = []\n",
    "  for index in item:\n",
    "    words.append(index2word[index])\n",
    "  sentence = ' '.join(words)\n",
    "  sentences.append(sentence)\n",
    "# for item in sentences:\n",
    "#   print(item)\n",
    "\n"
   ]
  },
  {
   "cell_type": "code",
   "execution_count": null,
   "id": "583e1872",
   "metadata": {
    "execution": {
     "iopub.execute_input": "2023-12-19T12:15:45.207825Z",
     "iopub.status.busy": "2023-12-19T12:15:45.207421Z",
     "iopub.status.idle": "2023-12-19T12:15:45.230168Z",
     "shell.execute_reply": "2023-12-19T12:15:45.229015Z",
     "shell.execute_reply.started": "2023-12-19T12:15:45.207792Z"
    },
    "id": "NMy0Qx086BAh",
    "outputId": "84164c87-242e-4bec-8866-58ee0a42ecc0",
    "papermill": {
     "duration": null,
     "end_time": null,
     "exception": null,
     "start_time": null,
     "status": "pending"
    },
    "tags": []
   },
   "outputs": [],
   "source": [
    "import numpy as np\n",
    "target_vector = np.array(target_data)\n",
    "print(target_vector.shape)"
   ]
  },
  {
   "cell_type": "code",
   "execution_count": null,
   "id": "8de12cce",
   "metadata": {
    "execution": {
     "iopub.execute_input": "2023-12-19T12:15:48.438762Z",
     "iopub.status.busy": "2023-12-19T12:15:48.438033Z",
     "iopub.status.idle": "2023-12-19T12:15:48.444856Z",
     "shell.execute_reply": "2023-12-19T12:15:48.443855Z",
     "shell.execute_reply.started": "2023-12-19T12:15:48.438722Z"
    },
    "id": "OjoKrhG-_0bx",
    "outputId": "b98b4eab-49fb-4d11-99e1-49de0ac0b26f",
    "papermill": {
     "duration": null,
     "end_time": null,
     "exception": null,
     "start_time": null,
     "status": "pending"
    },
    "tags": []
   },
   "outputs": [],
   "source": [
    "print(target_vector)"
   ]
  },
  {
   "cell_type": "code",
   "execution_count": null,
   "id": "1b82d051",
   "metadata": {
    "execution": {
     "iopub.execute_input": "2023-12-19T12:15:55.794696Z",
     "iopub.status.busy": "2023-12-19T12:15:55.793974Z",
     "iopub.status.idle": "2023-12-19T12:15:55.801449Z",
     "shell.execute_reply": "2023-12-19T12:15:55.800457Z",
     "shell.execute_reply.started": "2023-12-19T12:15:55.794659Z"
    },
    "id": "xnNex-ZF-AIH",
    "papermill": {
     "duration": null,
     "end_time": null,
     "exception": null,
     "start_time": null,
     "status": "pending"
    },
    "tags": []
   },
   "outputs": [],
   "source": [
    "def create_word2index_nonsys(word2index_sys):\n",
    "  word2index = {}\n",
    "  index2word = {}\n",
    "  index2word[0] = '</pad>>'\n",
    "  index2word[1] = '</Start>'\n",
    "  index2word[2] = '</EOS>'\n",
    "  index2word[3] = '</unkn>'\n",
    "  word2index['</pad>'] = 0\n",
    "  word2index['</Start>'] = 1\n",
    "  word2index['</EOS>'] = 2\n",
    "  word2index['</unkn>'] = 3\n",
    "  index = 4\n",
    "  for item in tqdm(word2index_sys.keys()):\n",
    "    non_sys = remove_tone_line(item)\n",
    "    if(non_sys not in word2index):\n",
    "      word2index[non_sys] = index\n",
    "      index2word[index] = non_sys\n",
    "      index+= 1\n",
    "  return (word2index, index2word)"
   ]
  },
  {
   "cell_type": "code",
   "execution_count": null,
   "id": "5932f679",
   "metadata": {
    "execution": {
     "iopub.execute_input": "2023-12-19T12:16:06.747191Z",
     "iopub.status.busy": "2023-12-19T12:16:06.746252Z",
     "iopub.status.idle": "2023-12-19T12:16:06.905143Z",
     "shell.execute_reply": "2023-12-19T12:16:06.904085Z",
     "shell.execute_reply.started": "2023-12-19T12:16:06.747132Z"
    },
    "id": "YtTEWL5H_i5c",
    "outputId": "755136db-442b-4ba4-d91e-80ab36958e2d",
    "papermill": {
     "duration": null,
     "end_time": null,
     "exception": null,
     "start_time": null,
     "status": "pending"
    },
    "tags": []
   },
   "outputs": [],
   "source": [
    "non_sys_word2index, non_sys_index2word = create_word2index_nonsys(word2index)\n",
    "print(len(non_sys_word2index))\n",
    "\n",
    "# print(non_sys_word2index.keys())"
   ]
  },
  {
   "cell_type": "code",
   "execution_count": null,
   "id": "d6d01130",
   "metadata": {
    "execution": {
     "iopub.execute_input": "2023-12-19T12:17:58.469125Z",
     "iopub.status.busy": "2023-12-19T12:17:58.468437Z",
     "iopub.status.idle": "2023-12-19T12:17:59.922168Z",
     "shell.execute_reply": "2023-12-19T12:17:59.921057Z",
     "shell.execute_reply.started": "2023-12-19T12:17:58.469090Z"
    },
    "id": "yDr26AIDBxDb",
    "outputId": "026f997a-74fc-41b9-e703-e55cd545b769",
    "papermill": {
     "duration": null,
     "end_time": null,
     "exception": null,
     "start_time": null,
     "status": "pending"
    },
    "tags": []
   },
   "outputs": [],
   "source": [
    "input_data = []\n",
    "for item in tqdm(data_v1):\n",
    "  words = item.split('\\n')[0]\n",
    "  words = word_tokenize(words)\n",
    "  vector =[]\n",
    "  for word in words:\n",
    "    word = remove_tone_line(word)\n",
    "    if(word in non_sys_word2index.keys()):\n",
    "      vector.append(non_sys_word2index[word])\n",
    "    else:\n",
    "      vector.append(non_sys_word2index['</unkn>'])\n",
    "  padding = 30 - len(words)\n",
    "  vector = vector + [0] * padding\n",
    "  input_data.append(vector)"
   ]
  },
  {
   "cell_type": "code",
   "execution_count": null,
   "id": "8a896d37",
   "metadata": {
    "papermill": {
     "duration": null,
     "end_time": null,
     "exception": null,
     "start_time": null,
     "status": "pending"
    },
    "tags": []
   },
   "outputs": [],
   "source": []
  },
  {
   "cell_type": "code",
   "execution_count": null,
   "id": "1f5cff6e",
   "metadata": {
    "execution": {
     "iopub.execute_input": "2023-12-19T12:18:03.477043Z",
     "iopub.status.busy": "2023-12-19T12:18:03.476257Z",
     "iopub.status.idle": "2023-12-19T12:18:03.482507Z",
     "shell.execute_reply": "2023-12-19T12:18:03.481358Z",
     "shell.execute_reply.started": "2023-12-19T12:18:03.477006Z"
    },
    "id": "48_nx4EACuX8",
    "outputId": "2615e711-5029-409d-dc25-d85bb0ba5f37",
    "papermill": {
     "duration": null,
     "end_time": null,
     "exception": null,
     "start_time": null,
     "status": "pending"
    },
    "tags": []
   },
   "outputs": [],
   "source": [
    "sentences =[]\n",
    "for item in input_data[:10]:\n",
    "  words = []\n",
    "  for index in item:\n",
    "    words.append(non_sys_index2word[index])\n",
    "  sentence = ' '.join(words)\n",
    "  sentences.append(sentence)\n",
    "# for item in sentences:\n",
    "#   print(item)"
   ]
  },
  {
   "cell_type": "code",
   "execution_count": null,
   "id": "081c26e6",
   "metadata": {
    "execution": {
     "iopub.execute_input": "2023-12-19T12:18:06.111332Z",
     "iopub.status.busy": "2023-12-19T12:18:06.110584Z",
     "iopub.status.idle": "2023-12-19T12:18:06.133036Z",
     "shell.execute_reply": "2023-12-19T12:18:06.132015Z",
     "shell.execute_reply.started": "2023-12-19T12:18:06.111295Z"
    },
    "id": "63LJvDXCD2YZ",
    "papermill": {
     "duration": null,
     "end_time": null,
     "exception": null,
     "start_time": null,
     "status": "pending"
    },
    "tags": []
   },
   "outputs": [],
   "source": [
    "input_vector = np.array(input_data)\n",
    "print(input_vector.shape)"
   ]
  },
  {
   "cell_type": "code",
   "execution_count": null,
   "id": "3c49a219",
   "metadata": {
    "execution": {
     "iopub.execute_input": "2023-12-19T12:18:14.973321Z",
     "iopub.status.busy": "2023-12-19T12:18:14.972290Z",
     "iopub.status.idle": "2023-12-19T12:18:14.978400Z",
     "shell.execute_reply": "2023-12-19T12:18:14.977235Z",
     "shell.execute_reply.started": "2023-12-19T12:18:14.973276Z"
    },
    "id": "fwGigGg9WDN_",
    "papermill": {
     "duration": null,
     "end_time": null,
     "exception": null,
     "start_time": null,
     "status": "pending"
    },
    "tags": []
   },
   "outputs": [],
   "source": [
    "VOCAB_SIZE_input = len(non_sys_index2word)\n",
    "VOCAB_SIZE_output = len(index2word)\n",
    "\n",
    "embedding_dim = 300"
   ]
  },
  {
   "cell_type": "code",
   "execution_count": null,
   "id": "ba73c672",
   "metadata": {
    "execution": {
     "iopub.execute_input": "2023-12-19T12:18:15.644770Z",
     "iopub.status.busy": "2023-12-19T12:18:15.644381Z",
     "iopub.status.idle": "2023-12-19T12:18:15.653958Z",
     "shell.execute_reply": "2023-12-19T12:18:15.652773Z",
     "shell.execute_reply.started": "2023-12-19T12:18:15.644737Z"
    },
    "id": "nog7IzW1D5wR",
    "papermill": {
     "duration": null,
     "end_time": null,
     "exception": null,
     "start_time": null,
     "status": "pending"
    },
    "tags": []
   },
   "outputs": [],
   "source": [
    "embedding_layer_input = Embedding(VOCAB_SIZE_input, embedding_dim,\n",
    "                                     input_length=maxlength,\n",
    "                                     trainable=False)\n",
    "\n",
    "# Define Embedding Layer for Answers\n",
    "embedding_layer_output = Embedding(VOCAB_SIZE_output, embedding_dim,\n",
    "                                   input_length=maxlength,\n",
    "                                   trainable=False)"
   ]
  },
  {
   "cell_type": "code",
   "execution_count": null,
   "id": "15d383bd",
   "metadata": {
    "execution": {
     "iopub.execute_input": "2023-12-19T12:18:16.240248Z",
     "iopub.status.busy": "2023-12-19T12:18:16.239257Z",
     "iopub.status.idle": "2023-12-19T12:18:16.244746Z",
     "shell.execute_reply": "2023-12-19T12:18:16.243629Z",
     "shell.execute_reply.started": "2023-12-19T12:18:16.240202Z"
    },
    "id": "EizD64YPXKs2",
    "papermill": {
     "duration": null,
     "end_time": null,
     "exception": null,
     "start_time": null,
     "status": "pending"
    },
    "tags": []
   },
   "outputs": [],
   "source": [
    "from keras.models import Model, Sequential"
   ]
  },
  {
   "cell_type": "code",
   "execution_count": null,
   "id": "166c2255",
   "metadata": {
    "execution": {
     "iopub.execute_input": "2023-12-19T12:18:16.796317Z",
     "iopub.status.busy": "2023-12-19T12:18:16.795519Z",
     "iopub.status.idle": "2023-12-19T12:18:16.801365Z",
     "shell.execute_reply": "2023-12-19T12:18:16.800306Z",
     "shell.execute_reply.started": "2023-12-19T12:18:16.796275Z"
    },
    "papermill": {
     "duration": null,
     "end_time": null,
     "exception": null,
     "start_time": null,
     "status": "pending"
    },
    "tags": []
   },
   "outputs": [],
   "source": [
    "print(len(word2index))"
   ]
  },
  {
   "cell_type": "code",
   "execution_count": null,
   "id": "d0ca7939",
   "metadata": {
    "execution": {
     "iopub.execute_input": "2023-12-19T12:18:17.276921Z",
     "iopub.status.busy": "2023-12-19T12:18:17.276004Z",
     "iopub.status.idle": "2023-12-19T12:18:17.952245Z",
     "shell.execute_reply": "2023-12-19T12:18:17.951338Z",
     "shell.execute_reply.started": "2023-12-19T12:18:17.276883Z"
    },
    "id": "Syao-g7KWoij",
    "outputId": "478f00b0-5097-41a1-f85f-1303bbef7226",
    "papermill": {
     "duration": null,
     "end_time": null,
     "exception": null,
     "start_time": null,
     "status": "pending"
    },
    "tags": []
   },
   "outputs": [],
   "source": [
    "encoder_inputs = Input(shape = (maxlength, ))\n",
    "encoder_embedding = embedding_layer_input(encoder_inputs)\n",
    "encoder_outputs, state_h, state_c = LSTM(300,dropout=0.05,return_state=True)(encoder_embedding)\n",
    "encoder_states = [state_h, state_c]\n",
    "\n",
    "decoder_inputs = Input(shape=(maxlength, ))\n",
    "decoder_embedding = embedding_layer_output(decoder_inputs)\n",
    "decoder_lstm = LSTM(300, return_state=True, return_sequences=True,dropout=0.05)\n",
    "decoder_outputs , _ , _ = decoder_lstm(decoder_embedding, initial_state=encoder_states)\n",
    "decoder_dense = Dense(VOCAB_SIZE_output, activation='softmax')\n",
    "output = decoder_dense(decoder_outputs)\n",
    "\n",
    "model = Model([encoder_inputs, decoder_inputs], output)\n",
    "model.compile(optimizer = 'adam', loss = 'categorical_crossentropy', metrics=['acc'])\n",
    "\n",
    "model.summary()"
   ]
  },
  {
   "cell_type": "code",
   "execution_count": null,
   "id": "63634f5e",
   "metadata": {
    "execution": {
     "iopub.execute_input": "2023-12-19T12:18:17.954044Z",
     "iopub.status.busy": "2023-12-19T12:18:17.953755Z",
     "iopub.status.idle": "2023-12-19T12:18:18.552565Z",
     "shell.execute_reply": "2023-12-19T12:18:18.551562Z",
     "shell.execute_reply.started": "2023-12-19T12:18:17.954017Z"
    },
    "id": "bYMnTUHEba20",
    "outputId": "e0ebed7f-d832-4c9a-e062-37efd36c8970",
    "papermill": {
     "duration": null,
     "end_time": null,
     "exception": null,
     "start_time": null,
     "status": "pending"
    },
    "tags": []
   },
   "outputs": [],
   "source": [
    "def create_onehost_vector(target_vector, maxlength, word2index):\n",
    "  onehost_vectors = np.zeros((len(target_vector),maxlength, len(word2index)))\n",
    "\n",
    "  for n_vector in tqdm(range((len(target_vector)))):\n",
    "    for index in range(maxlength):\n",
    "      onehost_vectors[n_vector][index][target_vector[n_vector][index]] = 1\n",
    "  print('shape: ', onehost_vectors.shape)\n",
    "  return onehost_vectors\n",
    "\n",
    "output_onehost_vector = create_onehost_vector(target_vector, maxlength, word2index)\n"
   ]
  },
  {
   "cell_type": "code",
   "execution_count": null,
   "id": "c528f5f8",
   "metadata": {
    "execution": {
     "iopub.execute_input": "2023-12-19T12:18:18.554677Z",
     "iopub.status.busy": "2023-12-19T12:18:18.554349Z",
     "iopub.status.idle": "2023-12-19T12:29:43.573568Z",
     "shell.execute_reply": "2023-12-19T12:29:43.572590Z",
     "shell.execute_reply.started": "2023-12-19T12:18:18.554648Z"
    },
    "id": "KnkFq7DjXYZ7",
    "papermill": {
     "duration": null,
     "end_time": null,
     "exception": null,
     "start_time": null,
     "status": "pending"
    },
    "tags": []
   },
   "outputs": [],
   "source": [
    "checkpoint = ModelCheckpoint('model.h5', monitor='loss', verbose=1, save_best_only=True)\n",
    "\n",
    "# train model\n",
    "history = model.fit([input_vector , target_vector], output_onehost_vector , batch_size=64, epochs=200)"
   ]
  },
  {
   "cell_type": "code",
   "execution_count": null,
   "id": "1cc95e8c",
   "metadata": {
    "execution": {
     "iopub.execute_input": "2023-12-19T12:29:49.591041Z",
     "iopub.status.busy": "2023-12-19T12:29:49.590236Z",
     "iopub.status.idle": "2023-12-19T12:29:49.944464Z",
     "shell.execute_reply": "2023-12-19T12:29:49.943431Z",
     "shell.execute_reply.started": "2023-12-19T12:29:49.591007Z"
    },
    "papermill": {
     "duration": null,
     "end_time": null,
     "exception": null,
     "start_time": null,
     "status": "pending"
    },
    "tags": []
   },
   "outputs": [],
   "source": [
    "%matplotlib inline\n",
    "import matplotlib.pyplot as plt\n",
    "plt.rcParams['figure.figsize'] = (10, 5)\n",
    "# Plot training accuracy & loss values\n",
    "plt.plot(history.history['acc'])\n",
    "plt.plot(history.history['loss'])\n",
    "plt.title('Model accuracy')\n",
    "plt.ylabel('Value')\n",
    "plt.xlabel('Epoch')\n",
    "plt.legend(['Accuracy','Loss'], loc='upper left')\n",
    "plt.show()"
   ]
  },
  {
   "cell_type": "code",
   "execution_count": null,
   "id": "e0fbb2c7",
   "metadata": {
    "execution": {
     "iopub.execute_input": "2023-12-19T12:29:57.001410Z",
     "iopub.status.busy": "2023-12-19T12:29:57.000491Z",
     "iopub.status.idle": "2023-12-19T12:29:57.064369Z",
     "shell.execute_reply": "2023-12-19T12:29:57.063508Z",
     "shell.execute_reply.started": "2023-12-19T12:29:57.001373Z"
    },
    "papermill": {
     "duration": null,
     "end_time": null,
     "exception": null,
     "start_time": null,
     "status": "pending"
    },
    "tags": []
   },
   "outputs": [],
   "source": [
    "model.save_weights('chatbot_weights.h5')"
   ]
  },
  {
   "cell_type": "code",
   "execution_count": null,
   "id": "16142037",
   "metadata": {
    "execution": {
     "iopub.execute_input": "2023-12-19T12:29:59.025107Z",
     "iopub.status.busy": "2023-12-19T12:29:59.024693Z",
     "iopub.status.idle": "2023-12-19T12:29:59.030211Z",
     "shell.execute_reply": "2023-12-19T12:29:59.029034Z",
     "shell.execute_reply.started": "2023-12-19T12:29:59.025076Z"
    },
    "papermill": {
     "duration": null,
     "end_time": null,
     "exception": null,
     "start_time": null,
     "status": "pending"
    },
    "tags": []
   },
   "outputs": [],
   "source": [
    "import pickle"
   ]
  },
  {
   "cell_type": "code",
   "execution_count": null,
   "id": "325a52e5",
   "metadata": {
    "execution": {
     "iopub.execute_input": "2023-12-19T12:29:59.673477Z",
     "iopub.status.busy": "2023-12-19T12:29:59.673023Z",
     "iopub.status.idle": "2023-12-19T12:29:59.960659Z",
     "shell.execute_reply": "2023-12-19T12:29:59.959763Z",
     "shell.execute_reply.started": "2023-12-19T12:29:59.673441Z"
    },
    "papermill": {
     "duration": null,
     "end_time": null,
     "exception": null,
     "start_time": null,
     "status": "pending"
    },
    "tags": []
   },
   "outputs": [],
   "source": [
    "with open('/kaggle/working/data.pkl', 'wb') as file:\n",
    "    pickle.dump(model, file)"
   ]
  },
  {
   "cell_type": "code",
   "execution_count": null,
   "id": "26429b5a",
   "metadata": {
    "execution": {
     "iopub.execute_input": "2023-12-19T12:30:03.298195Z",
     "iopub.status.busy": "2023-12-19T12:30:03.297519Z",
     "iopub.status.idle": "2023-12-19T12:30:03.304063Z",
     "shell.execute_reply": "2023-12-19T12:30:03.303045Z",
     "shell.execute_reply.started": "2023-12-19T12:30:03.298137Z"
    },
    "papermill": {
     "duration": null,
     "end_time": null,
     "exception": null,
     "start_time": null,
     "status": "pending"
    },
    "tags": []
   },
   "outputs": [],
   "source": [
    "print(input_vector[:2])"
   ]
  },
  {
   "cell_type": "code",
   "execution_count": null,
   "id": "34cc380c",
   "metadata": {
    "execution": {
     "iopub.execute_input": "2023-12-19T12:30:03.866501Z",
     "iopub.status.busy": "2023-12-19T12:30:03.866099Z",
     "iopub.status.idle": "2023-12-19T12:30:03.873099Z",
     "shell.execute_reply": "2023-12-19T12:30:03.872194Z",
     "shell.execute_reply.started": "2023-12-19T12:30:03.866467Z"
    },
    "papermill": {
     "duration": null,
     "end_time": null,
     "exception": null,
     "start_time": null,
     "status": "pending"
    },
    "tags": []
   },
   "outputs": [],
   "source": [
    "def make_inference_models():\n",
    "    \n",
    "    encoder_model = Model(encoder_inputs, encoder_states)\n",
    "    \n",
    "    decoder_state_input_h = Input(shape=(300,))\n",
    "    decoder_state_input_c = Input(shape=(300,))\n",
    "    \n",
    "    decoder_states_inputs = [decoder_state_input_h, decoder_state_input_c]\n",
    "    \n",
    "    decoder_outputs, state_h, state_c = decoder_lstm(\n",
    "        decoder_embedding , initial_state=decoder_states_inputs)\n",
    "    \n",
    "    decoder_states = [state_h, state_c]\n",
    "\n",
    "    decoder_outputs = decoder_dense(decoder_outputs)\n",
    "    \n",
    "    decoder_model = Model(\n",
    "        [decoder_inputs] + decoder_states_inputs,\n",
    "        [decoder_outputs] + decoder_states)\n",
    "    \n",
    "    return encoder_model, decoder_model"
   ]
  },
  {
   "cell_type": "code",
   "execution_count": null,
   "id": "fb944997",
   "metadata": {
    "execution": {
     "iopub.execute_input": "2023-12-19T12:30:13.663218Z",
     "iopub.status.busy": "2023-12-19T12:30:13.662804Z",
     "iopub.status.idle": "2023-12-19T12:30:13.934643Z",
     "shell.execute_reply": "2023-12-19T12:30:13.933630Z",
     "shell.execute_reply.started": "2023-12-19T12:30:13.663182Z"
    },
    "papermill": {
     "duration": null,
     "end_time": null,
     "exception": null,
     "start_time": null,
     "status": "pending"
    },
    "tags": []
   },
   "outputs": [],
   "source": [
    "enc_model ,dec_model = make_inference_models()"
   ]
  },
  {
   "cell_type": "code",
   "execution_count": null,
   "id": "f356de06",
   "metadata": {
    "execution": {
     "iopub.execute_input": "2023-12-19T12:30:14.185967Z",
     "iopub.status.busy": "2023-12-19T12:30:14.184931Z",
     "iopub.status.idle": "2023-12-19T12:30:14.191501Z",
     "shell.execute_reply": "2023-12-19T12:30:14.190592Z",
     "shell.execute_reply.started": "2023-12-19T12:30:14.185913Z"
    },
    "papermill": {
     "duration": null,
     "end_time": null,
     "exception": null,
     "start_time": null,
     "status": "pending"
    },
    "tags": []
   },
   "outputs": [],
   "source": [
    "print(input_vector[:1])"
   ]
  },
  {
   "cell_type": "code",
   "execution_count": null,
   "id": "091a8692",
   "metadata": {
    "papermill": {
     "duration": null,
     "end_time": null,
     "exception": null,
     "start_time": null,
     "status": "pending"
    },
    "tags": []
   },
   "outputs": [],
   "source": []
  },
  {
   "cell_type": "code",
   "execution_count": null,
   "id": "436623d0",
   "metadata": {
    "execution": {
     "iopub.execute_input": "2023-12-19T12:38:31.192099Z",
     "iopub.status.busy": "2023-12-19T12:38:31.191714Z",
     "iopub.status.idle": "2023-12-19T12:38:33.527935Z",
     "shell.execute_reply": "2023-12-19T12:38:33.527125Z",
     "shell.execute_reply.started": "2023-12-19T12:38:31.192063Z"
    },
    "papermill": {
     "duration": null,
     "end_time": null,
     "exception": null,
     "start_time": null,
     "status": "pending"
    },
    "tags": []
   },
   "outputs": [],
   "source": [
    "states_values = enc_model.predict(input_vector[104:105])\n",
    "empty_target_seq = np.zeros((1, 1))\n",
    "empty_target_seq[0, 0] = word2index['</Start>']\n",
    "stop_condition = False\n",
    "decoded_translation = ''\n",
    "while not stop_condition:\n",
    "    dec_outputs, h, c = dec_model.predict([empty_target_seq] + states_values)\n",
    "\n",
    "    sampled_word_index = np.argmax(dec_outputs[0, -1, :])\n",
    "    sampled_word = None\n",
    "    for word, index in word2index.items() :\n",
    "        if sampled_word_index == index:\n",
    "            decoded_translation += ' {}'.format(word)\n",
    "            sampled_word = word\n",
    "\n",
    "        if sampled_word == '</End>' or len(decoded_translation.split()) > 30:\n",
    "            stop_condition = True\n",
    "\n",
    "        empty_target_seq = np.zeros((1, 1))  \n",
    "        empty_target_seq[0 , 0] = sampled_word_index\n",
    "        states_values = [h, c]"
   ]
  },
  {
   "cell_type": "code",
   "execution_count": null,
   "id": "513e2500",
   "metadata": {
    "execution": {
     "iopub.execute_input": "2023-12-19T12:38:33.531472Z",
     "iopub.status.busy": "2023-12-19T12:38:33.531140Z",
     "iopub.status.idle": "2023-12-19T12:38:33.536223Z",
     "shell.execute_reply": "2023-12-19T12:38:33.535320Z",
     "shell.execute_reply.started": "2023-12-19T12:38:33.531443Z"
    },
    "papermill": {
     "duration": null,
     "end_time": null,
     "exception": null,
     "start_time": null,
     "status": "pending"
    },
    "tags": []
   },
   "outputs": [],
   "source": [
    "print(decoded_translation)\n",
    "print(input)"
   ]
  },
  {
   "cell_type": "code",
   "execution_count": null,
   "id": "e83f4291",
   "metadata": {
    "execution": {
     "iopub.execute_input": "2023-12-19T12:38:33.537767Z",
     "iopub.status.busy": "2023-12-19T12:38:33.537479Z",
     "iopub.status.idle": "2023-12-19T12:38:33.653528Z",
     "shell.execute_reply": "2023-12-19T12:38:33.652189Z",
     "shell.execute_reply.started": "2023-12-19T12:38:33.537740Z"
    },
    "papermill": {
     "duration": null,
     "end_time": null,
     "exception": null,
     "start_time": null,
     "status": "pending"
    },
    "tags": []
   },
   "outputs": [],
   "source": [
    "predicted_output = model.predict(input_vector[:2])\n",
    "\n",
    "# # Kết quả là một vector dự đoán\n",
    "print(\"Predicted Output Vector:\", predicted_output)\n",
    "print(data_v1[:2])"
   ]
  },
  {
   "cell_type": "code",
   "execution_count": null,
   "id": "ece109e3",
   "metadata": {
    "execution": {
     "iopub.execute_input": "2023-12-19T12:30:44.153511Z",
     "iopub.status.busy": "2023-12-19T12:30:44.153066Z",
     "iopub.status.idle": "2023-12-19T12:30:44.162129Z",
     "shell.execute_reply": "2023-12-19T12:30:44.161201Z",
     "shell.execute_reply.started": "2023-12-19T12:30:44.153478Z"
    },
    "papermill": {
     "duration": null,
     "end_time": null,
     "exception": null,
     "start_time": null,
     "status": "pending"
    },
    "tags": []
   },
   "outputs": [],
   "source": [
    "def make_inference_models():\n",
    "    \n",
    "    encoder_model = Model(encoder_inputs, encoder_states)\n",
    "    \n",
    "    decoder_state_input_h = Input(shape=(300,))\n",
    "    decoder_state_input_c = Input(shape=(300,))\n",
    "    \n",
    "    decoder_states_inputs = [decoder_state_input_h, decoder_state_input_c]\n",
    "    \n",
    "    decoder_outputs, state_h, state_c = decoder_lstm(\n",
    "        decoder_embedding , initial_state=decoder_states_inputs)\n",
    "    \n",
    "    decoder_states = [state_h, state_c]\n",
    "\n",
    "    decoder_outputs = decoder_dense(decoder_outputs)\n",
    "    \n",
    "    decoder_model = Model(\n",
    "        [decoder_inputs] + decoder_states_inputs,\n",
    "        [decoder_outputs] + decoder_states)\n",
    "    \n",
    "    return encoder_model, decoder_model"
   ]
  },
  {
   "cell_type": "code",
   "execution_count": null,
   "id": "b7a1abc2",
   "metadata": {
    "papermill": {
     "duration": null,
     "end_time": null,
     "exception": null,
     "start_time": null,
     "status": "pending"
    },
    "tags": []
   },
   "outputs": [],
   "source": []
  }
 ],
 "metadata": {
  "colab": {
   "provenance": []
  },
  "kaggle": {
   "accelerator": "gpu",
   "dataSources": [
    {
     "datasetId": 4162556,
     "sourceId": 7197330,
     "sourceType": "datasetVersion"
    },
    {
     "datasetId": 4162560,
     "sourceId": 7197343,
     "sourceType": "datasetVersion"
    },
    {
     "datasetId": 4192614,
     "sourceId": 7239137,
     "sourceType": "datasetVersion"
    }
   ],
   "dockerImageVersionId": 30626,
   "isGpuEnabled": true,
   "isInternetEnabled": true,
   "language": "python",
   "sourceType": "notebook"
  },
  "kernelspec": {
   "display_name": "Python 3",
   "language": "python",
   "name": "python3"
  },
  "language_info": {
   "codemirror_mode": {
    "name": "ipython",
    "version": 3
   },
   "file_extension": ".py",
   "mimetype": "text/x-python",
   "name": "python",
   "nbconvert_exporter": "python",
   "pygments_lexer": "ipython3",
   "version": "3.10.5"
  },
  "papermill": {
   "default_parameters": {},
   "duration": 54.411833,
   "end_time": "2023-12-23T13:09:42.208060",
   "environment_variables": {},
   "exception": true,
   "input_path": "__notebook__.ipynb",
   "output_path": "__notebook__.ipynb",
   "parameters": {},
   "start_time": "2023-12-23T13:08:47.796227",
   "version": "2.4.0"
  }
 },
 "nbformat": 4,
 "nbformat_minor": 5
}
